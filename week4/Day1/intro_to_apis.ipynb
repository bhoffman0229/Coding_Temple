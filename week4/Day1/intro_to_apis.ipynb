{
 "cells": [
  {
   "attachments": {},
   "cell_type": "markdown",
   "metadata": {},
   "source": [
    "# Coding Temple's Data Analytics Program\n",
    "---\n",
    "## Intro to API's Assignment\n",
    "---\n",
    "### Problem 1:\n",
    "Check out this Pokemon API https://pokeapi.co/\n",
    "Use the requests package to connect to this API and get and store data for 5 different pokemon.\n",
    "Get the pokemons: name, atleast one ability's name, base_experience, and the URL for its sprite (an image that shows up on screen) for the 'front_shiny', attack base_state, hp base_stat, defense base_stat\n",
    "\n",
    "**BONUS POINTS IF YOU CAN POPULATE THE IMAGE!**"
   ]
  },
  {
   "cell_type": "code",
   "execution_count": null,
   "metadata": {},
   "outputs": [],
   "source": [
    "import requests, json\n",
    "import pandas as pd\n",
    "from PIL import Image\n",
    "from io import BytesIO\n",
    "#next line is for loading the response to see the information\n",
    "#urlpikachu = 'https://pokeapi.co/api/v2/pokemon/pikachu'\n",
    "#response = requests.get(urlpikachu)\n",
    "#print(response)\n",
    "#response.json()"
   ]
  },
  {
   "cell_type": "code",
   "execution_count": 40,
   "metadata": {},
   "outputs": [
    {
     "data": {
      "image/png": "[encoded data removed]",
      "text/plain": [
       "<PIL.PngImagePlugin.PngImageFile image mode=P size=96x96 at 0x7FA236B18910>"
      ]
     },
     "metadata": {},
     "output_type": "display_data"
    },
    {
     "name": "stdout",
     "output_type": "stream",
     "text": [
      "pikachu \n",
      " Ability = static \n",
      " Base Experience = 112 \n",
      " Attack = 55 \n",
      " HP = 35 \n",
      " Defense = 40 \n",
      "\n"
     ]
    },
    {
     "data": {
      "image/png": "[encoded data removed]",
      "text/plain": [
       "<PIL.PngImagePlugin.PngImageFile image mode=P size=96x96 at 0x7FA236B18970>"
      ]
     },
     "metadata": {},
     "output_type": "display_data"
    },
    {
     "name": "stdout",
     "output_type": "stream",
     "text": [
      "ditto \n",
      " Ability = limber \n",
      " Base Experience = 101 \n",
      " Attack = 48 \n",
      " HP = 48 \n",
      " Defense = 48 \n",
      "\n"
     ]
    },
    {
     "data": {
      "image/png": "[encoded data removed]",
      "text/plain": [
       "<PIL.PngImagePlugin.PngImageFile image mode=P size=96x96 at 0x7FA236B1A320>"
      ]
     },
     "metadata": {},
     "output_type": "display_data"
    },
    {
     "name": "stdout",
     "output_type": "stream",
     "text": [
      "blastoise \n",
      " Ability = torrent \n",
      " Base Experience = 265 \n",
      " Attack = 83 \n",
      " HP = 79 \n",
      " Defense = 100 \n",
      "\n"
     ]
    },
    {
     "data": {
      "image/png": "[encoded data removed]",
      "text/plain": [
       "<PIL.PngImagePlugin.PngImageFile image mode=P size=96x96 at 0x7FA236AD38E0>"
      ]
     },
     "metadata": {},
     "output_type": "display_data"
    },
    {
     "name": "stdout",
     "output_type": "stream",
     "text": [
      "charmander \n",
      " Ability = blaze \n",
      " Base Experience = 62 \n",
      " Attack = 52 \n",
      " HP = 39 \n",
      " Defense = 43 \n",
      "\n"
     ]
    },
    {
     "data": {
      "image/png": "[encoded data removed]",
      "text/plain": [
       "<PIL.PngImagePlugin.PngImageFile image mode=P size=96x96 at 0x7FA236AD39D0>"
      ]
     },
     "metadata": {},
     "output_type": "display_data"
    },
    {
     "name": "stdout",
     "output_type": "stream",
     "text": [
      "squirtle \n",
      " Ability = torrent \n",
      " Base Experience = 63 \n",
      " Attack = 48 \n",
      " HP = 44 \n",
      " Defense = 65 \n",
      "\n"
     ]
    }
   ],
   "source": [
    "def pokemon_data(pokemon):\n",
    "    url = f'https://pokeapi.co/api/v2/pokemon/{pokemon}'\n",
    "    pokestats = requests.get(url)\n",
    "    image_str = pokestats.json()['sprites']['front_shiny']\n",
    "    response = requests.get(image_str)\n",
    "    image = Image.open(BytesIO(response.content))\n",
    "    display(image)\n",
    "    print( pokemon, '\\n',\n",
    "    'Ability =', pokestats.json()['abilities'][0]['ability']['name'], '\\n',\n",
    "    'Base Experience =',pokestats.json()['base_experience'], '\\n',\n",
    "    'Attack =',pokestats.json()['stats'][1]['base_stat'], '\\n',\n",
    "    'HP =',pokestats.json()['stats'][0]['base_stat'], '\\n',\n",
    "    'Defense =',pokestats.json()['stats'][2]['base_stat'], '\\n'\n",
    "\n",
    "    )\n",
    "    \n",
    "pokemon_data('pikachu')\n",
    "pokemon_data('ditto')\n",
    "pokemon_data('blastoise')\n",
    "pokemon_data('charmander')\n",
    "pokemon_data('squirtle')"
   ]
  },
  {
   "attachments": {},
   "cell_type": "markdown",
   "metadata": {},
   "source": [
    "### Problem 2:\n",
    "\n",
    "I want to build the best Pokemon team I can and I need your help to do so! Using the API, build me a team of 6 pokemon who's base-stats are above 60. Return any additional information you think is needed to help understand why you chose that pokemon for the team!"
   ]
  },
  {
   "cell_type": "code",
   "execution_count": 47,
   "metadata": {},
   "outputs": [
    {
     "data": {
      "image/png": "[encoded data removed]",
      "text/plain": [
       "<PIL.PngImagePlugin.PngImageFile image mode=P size=96x96 at 0x7FA295187F10>"
      ]
     },
     "metadata": {},
     "output_type": "display_data"
    },
    {
     "name": "stdout",
     "output_type": "stream",
     "text": [
      "mewtwo \n",
      " Ability = pressure \n",
      " Base Experience = 340 \n",
      " Attack = 110 \n",
      " HP = 106 \n",
      " Defense = 90 \n",
      "\n"
     ]
    },
    {
     "data": {
      "image/png": "[encoded data removed]",
      "text/plain": [
       "<PIL.PngImagePlugin.PngImageFile image mode=P size=96x96 at 0x7FA236B19AB0>"
      ]
     },
     "metadata": {},
     "output_type": "display_data"
    },
    {
     "name": "stdout",
     "output_type": "stream",
     "text": [
      "vaporeon \n",
      " Ability = water-absorb \n",
      " Base Experience = 184 \n",
      " Attack = 65 \n",
      " HP = 130 \n",
      " Defense = 60 \n",
      "\n"
     ]
    },
    {
     "data": {
      "image/png": "[encoded data removed]",
      "text/plain": [
       "<PIL.PngImagePlugin.PngImageFile image mode=P size=96x96 at 0x7FA236B18E80>"
      ]
     },
     "metadata": {},
     "output_type": "display_data"
    },
    {
     "name": "stdout",
     "output_type": "stream",
     "text": [
      "articuno \n",
      " Ability = pressure \n",
      " Base Experience = 290 \n",
      " Attack = 85 \n",
      " HP = 90 \n",
      " Defense = 100 \n",
      "\n"
     ]
    },
    {
     "data": {
      "image/png": "[encoded data removed]",
      "text/plain": [
       "<PIL.PngImagePlugin.PngImageFile image mode=P size=96x96 at 0x7FA236B18B80>"
      ]
     },
     "metadata": {},
     "output_type": "display_data"
    },
    {
     "name": "stdout",
     "output_type": "stream",
     "text": [
      "blastoise \n",
      " Ability = torrent \n",
      " Base Experience = 265 \n",
      " Attack = 83 \n",
      " HP = 79 \n",
      " Defense = 100 \n",
      "\n"
     ]
    },
    {
     "data": {
      "image/png": "[encoded data removed]",
      "text/plain": [
       "<PIL.PngImagePlugin.PngImageFile image mode=P size=96x96 at 0x7FA236C49750>"
      ]
     },
     "metadata": {},
     "output_type": "display_data"
    },
    {
     "name": "stdout",
     "output_type": "stream",
     "text": [
      "snorlax \n",
      " Ability = immunity \n",
      " Base Experience = 189 \n",
      " Attack = 110 \n",
      " HP = 160 \n",
      " Defense = 65 \n",
      "\n"
     ]
    },
    {
     "data": {
      "image/png": "[encoded data removed]",
      "text/plain": [
       "<PIL.PngImagePlugin.PngImageFile image mode=P size=96x96 at 0x7FA295185600>"
      ]
     },
     "metadata": {},
     "output_type": "display_data"
    },
    {
     "name": "stdout",
     "output_type": "stream",
     "text": [
      "mew \n",
      " Ability = synchronize \n",
      " Base Experience = 300 \n",
      " Attack = 100 \n",
      " HP = 100 \n",
      " Defense = 100 \n",
      "\n"
     ]
    }
   ],
   "source": [
    "pokemon_data('mewtwo')\n",
    "pokemon_data('vaporeon')\n",
    "pokemon_data('articuno')\n",
    "pokemon_data('blastoise')\n",
    "pokemon_data('snorlax')\n",
    "pokemon_data('mew')\n",
    "#bc i love them"
   ]
  },
  {
   "attachments": {},
   "cell_type": "markdown",
   "metadata": {},
   "source": [
    "### Problem 3:\n",
    "\n",
    "Create a function that does the following:\n",
    "* Input: pokemon_name(user_defined) -> str\n",
    "* Output: list object containing a dictionary of values from the response object.\n",
    "* Please include the type, the most current raritey level, at least one held item, and all stats"
   ]
  },
  {
   "cell_type": "code",
   "execution_count": null,
   "metadata": {},
   "outputs": [],
   "source": [
    "def choose_your_pokemon(answer):\n",
    "    url_2 = f'https://pokeapi.co/api/v2/pokemon/{answer}'\n",
    "    pokeinfo = requests.get(url_2)\n",
    "    image_str = pokeinfo.json()['sprites']['front_shiny']\n",
    "    response = requests.get(image_str)\n",
    "    image = Image.open(BytesIO(response.content))\n",
    "    display(image)\n",
    "    type = pokeinfo.json()['types'][0]['type']['name'],\n",
    "    rarity = pokeinfo.json()['sprites']['versions']['generation-v']['black-white']['animated']['front_default'], \n",
    "    base_experience = pokeinfo.json()['base_experience'], \n",
    "    attack = pokeinfo.json()['stats'][1]['base_stat'], \n",
    "    hp = pokeinfo.json()['stats'][0]['base_stat'], \n",
    "    defense = pokeinfo.json()['stats'][2]['base_stat'], \n",
    "    special_defence = pokeinfo.json()['stats'][4]['base_stat'], \n",
    "    special_attack = pokeinfo.json()['stats'][3]['base_stat'], \n",
    "    speed = pokeinfo.json()['stats'][5]['base_stat'],\n",
    "    item = pokeinfo.json()['item']['name']\n",
    "\n",
    "    pokedict = {\n",
    "        'Name' : answer,\n",
    "        'Type' : type,\n",
    "        'Rarity' : rarity,\n",
    "        'Base_Experience' : base_experience,\n",
    "        'Attack' : attack,\n",
    "        'HP' : hp,\n",
    "        'Defense' : defense,\n",
    "        'Special_Defence' : special_defence,\n",
    "        'Special_Attack' : special_attack,\n",
    "        'Speed' : speed,\n",
    "        'Held item' : item\n",
    "    }\n",
    "    return pokedict\n",
    "\n",
    "choose_your_pokemon(input('Choose your pokemon!'.lower()))\n",
    "\n",
    "    "
   ]
  }
 ],
 "metadata": {
  "kernelspec": {
   "display_name": "Python 3",
   "language": "python",
   "name": "python3"
  },
  "language_info": {
   "codemirror_mode": {
    "name": "ipython",
    "version": 3
   },
   "file_extension": ".py",
   "mimetype": "text/x-python",
   "name": "python",
   "nbconvert_exporter": "python",
   "pygments_lexer": "ipython3",
   "version": "3.10.12"
  },
  "orig_nbformat": 4,
  "vscode": {
   "interpreter": {
    "hash": "26de051ba29f2982a8de78e945f0abaf191376122a1563185a90213a26c5da77"
   }
  }
 },
 "nbformat": 4,
 "nbformat_minor": 2
}
