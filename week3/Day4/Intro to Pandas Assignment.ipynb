{
 "cells": [
  {
   "attachments": {},
   "cell_type": "markdown",
   "metadata": {},
   "source": [
    "# Coding Temple's Data Analytics Program\n",
    "---\n",
    "## Intro to Pandas Assignment\n",
    "---"
   ]
  },
  {
   "attachments": {},
   "cell_type": "markdown",
   "metadata": {},
   "source": [
    "### Imports"
   ]
  },
  {
   "cell_type": "code",
   "execution_count": 2,
   "metadata": {},
   "outputs": [],
   "source": [
    "import numpy as np\n",
    "import pandas as pd\n"
   ]
  },
  {
   "attachments": {},
   "cell_type": "markdown",
   "metadata": {},
   "source": [
    "### Exercise #1: Read in the Data\n",
    "For this assignment, you will want to use the Boston RedSox data from earlier today. Practice reading this into a DataFrame object using Pandas"
   ]
  },
  {
   "cell_type": "code",
   "execution_count": 3,
   "metadata": {},
   "outputs": [],
   "source": [
    "bs_2017 = pd.read_csv('/home/user/Documents/coding_temple/week3/day4/redsox_2017_hitting.txt')\n",
    "bs_2018 = pd.read_csv('/home/user/Documents/coding_temple/week3/day4/redsox_2018_hitting.txt')"
   ]
  },
  {
   "attachments": {},
   "cell_type": "markdown",
   "metadata": {},
   "source": [
    "### Exercise #2 - Find the Total Number of Runs and RBIs for the Red Sox <br>\n",
    "<p>Get total number of home runs and rbi's</p>"
   ]
  },
  {
   "cell_type": "code",
   "execution_count": 18,
   "metadata": {},
   "outputs": [
    {
     "name": "stdout",
     "output_type": "stream",
     "text": [
      "2017: Total Home runs = 168\n",
      "2017: Total RBI = 735\n",
      "2018: Total Home runs = 208\n",
      "2018: Total RBI = 826\n"
     ]
    }
   ],
   "source": [
    "#display(bs_2017)\n",
    "\n",
    "print(f'2017: Total Home runs = {bs_2017[\"HR\"].sum()}')\n",
    "print(f'2017: Total RBI = {bs_2017[\"RBI\"].sum()}')\n",
    "print(f'2018: Total Home runs = {bs_2018[\"HR\"].sum()}')\n",
    "print(f'2018: Total RBI = {bs_2018[\"RBI\"].sum()}')"
   ]
  }
 ],
 "metadata": {
  "kernelspec": {
   "display_name": "Python 3",
   "language": "python",
   "name": "python3"
  },
  "language_info": {
   "codemirror_mode": {
    "name": "ipython",
    "version": 3
   },
   "file_extension": ".py",
   "mimetype": "text/x-python",
   "name": "python",
   "nbconvert_exporter": "python",
   "pygments_lexer": "ipython3",
   "version": "3.10.12"
  },
  "orig_nbformat": 4
 },
 "nbformat": 4,
 "nbformat_minor": 2
}
