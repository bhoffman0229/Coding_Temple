{
 "cells": [
  {
   "attachments": {},
   "cell_type": "markdown",
   "metadata": {},
   "source": [
    "# Coding Temple's Data Analytics Program\n",
    "---\n",
    "## Python 1 Assignment 3\n",
    "---"
   ]
  },
  {
   "attachments": {},
   "cell_type": "markdown",
   "metadata": {},
   "source": [
    "### **Task 1: Build a Shopping Cart**\n",
    "**You can use either lists or dictionaries. The program should have the following capabilites:**\n",
    "* Takes a string as an input\n",
    "* Stores user input in a dictionary or list\n",
    "* Users should be able to:\n",
    "    * Add Items\n",
    "    * Delete Items\n",
    "    * See current shopping cart\n",
    "* The program should loop until user 'quits'\n",
    "* Upon quitting the program, print out all items in the user's list"
   ]
  },
  {
   "cell_type": "code",
   "execution_count": null,
   "metadata": {},
   "outputs": [],
   "source": [
    "from IPython.display import clear_output\n",
    "\n",
    "# Ask the user 5 bits of input: Do you want to : Show/Add/Delete/clear or Quit?\n",
    "# YOUR CODE HERE\n",
    "def shopping_cart():\n",
    "    cart_1={}\n",
    "    while True:\n",
    "        question = str(input(\"What do you want to do? Show/Add/Delete/Clear/Quit? (type the action you wish to pursue)\"))\n",
    "        if question.lower() == \"show\": \n",
    "            print(cart_1)\n",
    "        elif question.lower() == \"add\":\n",
    "            cart_1[list]=input(\"Add your items here:\")\n",
    "        elif question.lower() == \"delete\":\n",
    "            delete = input(\"tell me which items you wish to delete\")\n",
    "            for items in cart_1:\n",
    "                if items == delete:\n",
    "                    cart_1.remove(items)\n",
    "            print(cart_1)\n",
    "        elif question.lower() == \"clear\":\n",
    "            cart_1.clear(clear_output)\n",
    "        elif question.lower() == \"quit\":\n",
    "            return cart_1\n",
    "        else:\n",
    "            print(\"I'm sorry, that is not a valid response\")\n",
    "shopping_cart()"
   ]
  },
  {
   "attachments": {},
   "cell_type": "markdown",
   "metadata": {},
   "source": [
    "### **Task 2: Create a Module and Import it**\n",
    "Create a Module in VS Code and import it into a Notebook. Use each of the functions you build in your module\n",
    "\n",
    "**Your module should have the following capabilities:**\n",
    "* Has a function to calculate the square footage of a house\n",
    "* Has a function to calculate the circumference of a circle\n",
    "* Has a function to change feet to inches"
   ]
  },
  {
   "cell_type": "code",
   "execution_count": null,
   "metadata": {},
   "outputs": [],
   "source": [
    "from my_module import squarefoot\n",
    "from my_module import circumference\n",
    "from my_module import feet_to_inches\n",
    "\n",
    "squarefoot()\n",
    "circumference()\n",
    "feet_to_inch()"
   ]
  },
  {
   "attachments": {},
   "cell_type": "markdown",
   "metadata": {},
   "source": [
    "### **Task 3.1: Lists**\n",
    "Create 4 lists. Two of these lists should be keys, two of these lists should be values"
   ]
  },
  {
   "cell_type": "code",
   "execution_count": null,
   "metadata": {},
   "outputs": [],
   "source": [
    "list_1 = ['basketball', 'soccerball', 'football', 'tennisball']\n",
    "list_2 = ['bicycle', 'scooter', 'skateboard', 'longboard']\n",
    "list_3 = ['yellow', 'blue', 'orange', 'red']\n",
    "list_4 = ['large', 'small', 'medium', 'extra-large']"
   ]
  },
  {
   "attachments": {},
   "cell_type": "markdown",
   "metadata": {},
   "source": [
    "### **Task 3.2: Create a function that converts two lists into a dictionary, then merges two dictionaries into one.**\n",
    "\n",
    "Using your 4 lists, create a function which combines the keys lists with the values lists into a dictionary, then merges and returns the two dictionaries together."
   ]
  },
  {
   "cell_type": "code",
   "execution_count": null,
   "metadata": {},
   "outputs": [],
   "source": [
    "list_1 = ['basketball', 'soccerball', 'football', 'tennisball']\n",
    "list_2 = ['bicycle', 'scooter', 'skateboard', 'longboard']\n",
    "list_3 = ['yellow', 'blue', 'orange', 'red']\n",
    "list_4 = ['large', 'small', 'medium', 'extra-large']\n",
    "\n",
    "def convert_new(list_1, list_2, list_3, list_4):\n",
    "    dict_1 = {}\n",
    "    dict_2 = {}\n",
    "    for key,value in zip(list_1, list_3):\n",
    "        dict_1[key]=value\n",
    "        continue\n",
    "    for key,value in zip(list_2, list_4):\n",
    "        dict_2[key]=value\n",
    "        continue\n",
    "    return(dict_2.update(dict_1))\n",
    "convert_new(list_1, list_2, list_3, list_4)\n",
    "    "
   ]
  }
 ],
 "metadata": {
  "kernelspec": {
   "display_name": "Python 3",
   "language": "python",
   "name": "python3"
  },
  "language_info": {
   "codemirror_mode": {
    "name": "ipython",
    "version": 3
   },
   "file_extension": ".py",
   "mimetype": "text/x-python",
   "name": "python",
   "nbconvert_exporter": "python",
   "pygments_lexer": "ipython3",
   "version": "3.10.6"
  },
  "orig_nbformat": 4,
  "vscode": {
   "interpreter": {
    "hash": "26de051ba29f2982a8de78e945f0abaf191376122a1563185a90213a26c5da77"
   }
  }
 },
 "nbformat": 4,
 "nbformat_minor": 2
}
