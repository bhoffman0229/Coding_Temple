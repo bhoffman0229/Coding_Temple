{
 "cells": [
  {
   "attachments": {},
   "cell_type": "markdown",
   "metadata": {},
   "source": [
    "# Coding Temple's Data Analytics Program\n",
    "---\n",
    "## Python Basics Assignment 4\n",
    "---"
   ]
  },
  {
   "attachments": {},
   "cell_type": "markdown",
   "metadata": {},
   "source": [
    "### **Task 1: Update Shopping Cart**\n",
    "Using the shopping cart you created yesterday as a blueprint, create a shopping cart using object-oriented programming. This shopping cart should maintain all functionality that you currently have in your blueprint."
   ]
  },
  {
   "cell_type": "code",
   "execution_count": null,
   "metadata": {},
   "outputs": [],
   "source": [
    "# YOUR CODE HERE\n",
    "from IPython.display import clear_output\n",
    "\n",
    "class Shoppingcart:\n",
    "    cart_1=[]\n",
    "    def __init__(self, inventory):\n",
    "        self.inventory = int(inventory)\n",
    "    def shopping_cart():\n",
    "        cart_1=[]\n",
    "        while True:\n",
    "            question = str(input(\"What do you want to do? Show/Add/Delete/Clear/Quit? (type the action you wish to pursue)\"))\n",
    "            if question.lower() == \"show\": \n",
    "                print(cart_1)\n",
    "                continue\n",
    "            elif question.lower() == \"add\":\n",
    "                cart_item = str(input(\"Add your items here:\"))\n",
    "                cart_1.append(cart_item)\n",
    "            elif question.lower() == \"delete\":\n",
    "                delete = input(\"tell me which items you wish to delete\")\n",
    "                for items in cart_1:\n",
    "                    if items == delete:\n",
    "                        cart_1.remove(items)\n",
    "                    print(cart_1)\n",
    "            elif question.lower() == \"clear\":\n",
    "                cart_1.clear()\n",
    "            elif question.lower() == \"quit\":\n",
    "                return \"Thank you for using Shopping Cart™\"\n",
    "            else:\n",
    "                print(\"I'm sorry, that is not a valid response\")\n",
    "\n",
    "    def add_food(self, itemname, price):\n",
    "        self.itemname = itemname\n",
    "        self.price = price\n",
    "        self.cart_1.append(itemname, price)\n",
    "    def remove_food(self, itemname, price):\n",
    "        self.itemname = itemname\n",
    "        self.price = price\n",
    "        self.cart_1.remove(itemname, price)\n",
    "    def show_cart(self):\n",
    "        print(self.cart_1)\n",
    "\n"
   ]
  },
  {
   "attachments": {},
   "cell_type": "markdown",
   "metadata": {},
   "source": [
    "### **Task 2: String Class**\n",
    "Write a class which has the following two methods:\n",
    "* `get_string`: Accepts a string input from the user\n",
    "* `print_string`: Prints the string all in upper-case"
   ]
  },
  {
   "cell_type": "code",
   "execution_count": null,
   "metadata": {},
   "outputs": [],
   "source": [
    "# YOUR CODE HERE\n",
    "class my_string:\n",
    "    def __init__(self):\n",
    "        self.string = \"\"\n",
    "    def get_string(self):\n",
    "        self.string = input('Type your string')\n",
    "    def print_string(self):\n",
    "        print(self.string.upper)\n",
    "string = my_string()\n",
    "string.get_string()\n",
    "string.print_string()\n",
    "\n",
    "my_string()\n",
    "\n",
    "\n"
   ]
  },
  {
   "attachments": {},
   "cell_type": "markdown",
   "metadata": {},
   "source": [
    "### **Task 3: Activities**\n",
    "Create a class that depicts your favorite activity. Add in attributes that are associated with that activity in you `__init__` call. Also, create three functions that are associated with the activity.\n",
    "\n",
    "**Example:**\n",
    "If I chose football, I may have a FootballPlayer class with attributes such as:\n",
    "* `self.speed`\n",
    "* `self.strength`\n",
    "* `self.position`\n",
    "\n",
    "and methods such as:\n",
    "* `def pass_ball`\n",
    "* `def run`\n",
    "* `def faster_than_x`"
   ]
  },
  {
   "cell_type": "code",
   "execution_count": 6,
   "metadata": {},
   "outputs": [],
   "source": [
    "class swim100relay():\n",
    "    def __init__(self, butterfly, backstroke, breaststroke, freestyle):\n",
    "        self.butterfly = butterfly\n",
    "        self.backstroke = backstroke\n",
    "        self.breaststroke = breaststroke\n",
    "        self.freestyle = freestyle\n",
    "    def lap1(self):\n",
    "        print(\"Lap 1 time = \", self.butterfly, \" seconds\")\n",
    "    def lap2(self):\n",
    "        print(\"Lap 2 time = \", self.backstroke, \" seconds\")\n",
    "    def lap3(self):\n",
    "        print(\"Lap 3 time = \", self.breaststroke, \"seconds\")\n",
    "    def lap4(self):\n",
    "        print(\"Lap 4 time = \", self.freestyle, \" seconds\")"
   ]
  },
  {
   "attachments": {},
   "cell_type": "markdown",
   "metadata": {},
   "source": [
    "### **Task 4: Test Your Class!**\n",
    "Now that you created your class, let's create an instance of your class. In the cell below, instantiate a Class Object, then test each of your class methods on that object."
   ]
  },
  {
   "cell_type": "code",
   "execution_count": 7,
   "metadata": {},
   "outputs": [
    {
     "name": "stdout",
     "output_type": "stream",
     "text": [
      "Lap 1 time =  23  seconds\n",
      "Lap 2 time =  20  seconds\n",
      "Lap 3 time =  23 seconds\n"
     ]
    }
   ],
   "source": [
    "swimmer1 = swim100relay(23, 19, 26, 18)\n",
    "swimmer1.lap1()\n",
    "\n",
    "swimmer2 = swim100relay(22, 20, 20, 17)\n",
    "swimmer2.lap2()\n",
    "\n",
    "swimmer3 = swim100relay(21, 21, 23, 21)\n",
    "swimmer3.lap3()"
   ]
  }
 ],
 "metadata": {
  "kernelspec": {
   "display_name": "Python 3",
   "language": "python",
   "name": "python3"
  },
  "language_info": {
   "codemirror_mode": {
    "name": "ipython",
    "version": 3
   },
   "file_extension": ".py",
   "mimetype": "text/x-python",
   "name": "python",
   "nbconvert_exporter": "python",
   "pygments_lexer": "ipython3",
   "version": "3.10.6"
  },
  "orig_nbformat": 4,
  "vscode": {
   "interpreter": {
    "hash": "26de051ba29f2982a8de78e945f0abaf191376122a1563185a90213a26c5da77"
   }
  }
 },
 "nbformat": 4,
 "nbformat_minor": 2
}
